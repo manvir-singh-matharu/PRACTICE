{
 "cells": [
  {
   "cell_type": "code",
   "execution_count": null,
   "id": "97d6a21a",
   "metadata": {},
   "outputs": [],
   "source": [
    "import streamlit as st\n",
    "import pandas as pd\n",
    "import plotly.express as px"
   ]
  },
  {
   "cell_type": "code",
   "execution_count": 4,
   "id": "6de43f62",
   "metadata": {},
   "outputs": [],
   "source": [
    "d = pd.read_csv('B1.csv')\n",
    "df= pd.DataFrame(d)"
   ]
  },
  {
   "cell_type": "code",
   "execution_count": 12,
   "id": "6628b4dd",
   "metadata": {},
   "outputs": [
    {
     "name": "stderr",
     "output_type": "stream",
     "text": [
      "2025-07-21 18:33:14.835 WARNING streamlit.runtime.scriptrunner_utils.script_run_context: Thread 'MainThread': missing ScriptRunContext! This warning can be ignored when running in bare mode.\n",
      "2025-07-21 18:33:15.111 \n",
      "  \u001b[33m\u001b[1mWarning:\u001b[0m to view this Streamlit app on a browser, run it with the following\n",
      "  command:\n",
      "\n",
      "    streamlit run c:\\Python313\\Lib\\site-packages\\ipykernel_launcher.py [ARGUMENTS]\n",
      "2025-07-21 18:33:15.112 Thread 'MainThread': missing ScriptRunContext! This warning can be ignored when running in bare mode.\n",
      "2025-07-21 18:33:15.116 Thread 'MainThread': missing ScriptRunContext! This warning can be ignored when running in bare mode.\n",
      "2025-07-21 18:33:15.120 Thread 'MainThread': missing ScriptRunContext! This warning can be ignored when running in bare mode.\n",
      "2025-07-21 18:33:15.122 Thread 'MainThread': missing ScriptRunContext! This warning can be ignored when running in bare mode.\n",
      "2025-07-21 18:33:15.183 Thread 'MainThread': missing ScriptRunContext! This warning can be ignored when running in bare mode.\n",
      "2025-07-21 18:33:15.207 Thread 'MainThread': missing ScriptRunContext! This warning can be ignored when running in bare mode.\n",
      "2025-07-21 18:33:15.209 Thread 'MainThread': missing ScriptRunContext! This warning can be ignored when running in bare mode.\n",
      "2025-07-21 18:33:15.211 Thread 'MainThread': missing ScriptRunContext! This warning can be ignored when running in bare mode.\n",
      "2025-07-21 18:33:15.222 Thread 'MainThread': missing ScriptRunContext! This warning can be ignored when running in bare mode.\n",
      "2025-07-21 18:33:15.229 Thread 'MainThread': missing ScriptRunContext! This warning can be ignored when running in bare mode.\n",
      "2025-07-21 18:33:15.231 Thread 'MainThread': missing ScriptRunContext! This warning can be ignored when running in bare mode.\n"
     ]
    }
   ],
   "source": [
    "st.title(\"Product Sales Dashboard\")\n",
    "\n",
    "# Category selection\n",
    "categories = df['CATEGORY'].unique()\n",
    "selected_categories = st.multiselect(\n",
    "    \"Select Category:\",\n",
    "    options=categories,\n",
    "    default=None\n",
    ")\n",
    "if selected_categories:\n",
    "    filtered_df = df[df['CATEGORY'].isin(selected_categories)]\n",
    "    filtered_df = df[df['CATEGORY'].isin(c)]\n",
    "    fig1 =  px.bar(\n",
    "        filtered_df,\n",
    "        x='SUBCATEGORY',\n",
    "        y='SALES',\n",
    "        color='SUBCTEGORY',\n",
    "        title=f'Sales by Subcategory for {c}'\n",
    "    )\n",
    "    st.plotly_chart(fig1, use_container_width=True)\n",
    "    fig2 = px.pie(\n",
    "        filtered_df,\n",
    "        names='SUBCTEGORY',\n",
    "        values='PROFIT',\n",
    "        title=f'Sales Distribution by Subcategory for {c}'\n",
    "    )\n",
    "    st.plotly_chart(fig2, use_container_width=True)\n",
    "    fig = px.sunburst(\n",
    "        filtered_df,\n",
    "        path=['CATEGORY', 'SUBCTEGORY'],\n",
    "        values='SALES',\n",
    "        title=f'Sales Hierarchy: {c}'\n",
    "    )\n",
    "    st.plotly_chart(fig, use_container_width=True)\n",
    "\n",
    "else:\n",
    "    st.info(\"Please select at least one category to see the charts.\")"
   ]
  }
 ],
 "metadata": {
  "kernelspec": {
   "display_name": "Python 3",
   "language": "python",
   "name": "python3"
  },
  "language_info": {
   "codemirror_mode": {
    "name": "ipython",
    "version": 3
   },
   "file_extension": ".py",
   "mimetype": "text/x-python",
   "name": "python",
   "nbconvert_exporter": "python",
   "pygments_lexer": "ipython3",
   "version": "3.13.5"
  }
 },
 "nbformat": 4,
 "nbformat_minor": 5
}
